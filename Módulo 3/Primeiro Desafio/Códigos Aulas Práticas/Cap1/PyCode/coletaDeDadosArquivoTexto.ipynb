{
 "cells": [
  {
   "cell_type": "markdown",
   "metadata": {},
   "source": [
    "# Coleta de Dados em Arquivo Texto (txt)"
   ]
  },
  {
   "cell_type": "code",
   "execution_count": 1,
   "metadata": {},
   "outputs": [
    {
     "data": {
      "text/plain": [
       "'\\nCreated on Sun May  17 16:40:32 2020\\n\\n@author: PROFESSOR DO MÓDULO DE COLETA E OBTENÇÃO DE DADOS\\n\\n'"
      ]
     },
     "execution_count": 1,
     "metadata": {},
     "output_type": "execute_result"
    }
   ],
   "source": [
    "# -*- coding: utf-8 -*-\n",
    "\"\"\"\n",
    "Created on Sun May  17 16:40:32 2020\n",
    "\n",
    "@author: PROFESSOR DO MÓDULO DE COLETA E OBTENÇÃO DE DADOS\n",
    "\n",
    "\"\"\""
   ]
  },
  {
   "cell_type": "markdown",
   "metadata": {},
   "source": [
    "#### 1º) Importa bibliotecas"
   ]
  },
  {
   "cell_type": "code",
   "execution_count": 2,
   "metadata": {},
   "outputs": [],
   "source": [
    "import os #\n",
    "from datetime import datetime #"
   ]
  },
  {
   "cell_type": "markdown",
   "metadata": {},
   "source": [
    "#### 2º) Define métodos"
   ]
  },
  {
   "cell_type": "code",
   "execution_count": 3,
   "metadata": {},
   "outputs": [],
   "source": [
    "#classe para formatar a função print()\n",
    "class color:\n",
    "   PURPLE = '\\033[95m'\n",
    "   CYAN = '\\033[96m'\n",
    "   DARKCYAN = '\\033[36m'\n",
    "   BLUE = '\\033[94m'\n",
    "   GREEN = '\\033[92m'\n",
    "   YELLOW = '\\033[93m'\n",
    "   RED = '\\033[91m'\n",
    "   ORANGE ='\\033[33m'\n",
    "   BOLD = '\\033[1m'\n",
    "   UNDERLINE = '\\033[4m'\n",
    "   END = '\\033[0m'"
   ]
  },
  {
   "cell_type": "code",
   "execution_count": 4,
   "metadata": {},
   "outputs": [],
   "source": [
    "# Função que retorna o diretório de Datasets \n",
    "def setDatasetPath():\n",
    "    return 'C:\\Bootcamp\\Datasets\\TXT'\n",
    "\n",
    "#----------------------------------------------------------------\n",
    "# Método para leitura de arquivo (Lê todo o conteúdo de uma vez)\n",
    "def readFileContent(filename): \n",
    "    try:\n",
    "        fileobject=open(filename, \"r\", encoding='utf-8')\n",
    "        print(color.BOLD+color.BLUE+'\\nO conteúdo do arquivo '+filename+' é:\\n'+color.END)\n",
    "        if fileobject.mode == 'r':\n",
    "            filecontents =fileobject.read()\n",
    "            print (filecontents) #imprime o conteúdo lido\n",
    "        fileobject.close()    \n",
    "    except FileNotFoundError:\n",
    "        print(color.BOLD+color.RED+'\\nERRO AO TENTAR LER O ARQUIVO !! \\nO arquivo '+filename+' não existe!'+color.END)\n",
    "\n",
    "        #----------------------------------------------------------------        \n",
    "# Método para leitura de arquivo (Lêr as linhas do arquivo, e insere em uma lista)\n",
    "def realFileLines(filename):\n",
    "    #Ler cada linha do arquivo, inserir em uma lista\n",
    "    try:\n",
    "        print(color.BOLD+color.BLUE+'\\nAs linhas do arquivo '+filename+' são:\\n'+color.END)\n",
    "        fileobject=open(filename, \"r\", encoding='utf-8')\n",
    "        filelines =fileobject.readlines()\n",
    "    \n",
    "        numline=1 #variável de apoio para controle do número de linha\n",
    "\n",
    "        #Loop -> Para cada linha (line) da lista de linhas filelines\n",
    "        for line in filelines: \n",
    "            print('Linha '+str(numline)+': '+line,end = '') #imprime o valor da linha, end='' exclui quebra de linha\n",
    "            numline=numline+1\n",
    "\n",
    "        #Fecha o objeto de leitura do arquivo        \n",
    "        fileobject.close()      \n",
    "    except FileNotFoundError:\n",
    "        print(color.BOLD+color.RED+'\\nERRO AO TENTAR LER O ARQUIVO !! \\nO arquivo '+filename+' não existe!'+color.END)        \n",
    "#----------------------------------------------------------------        \n",
    "# Método para alteração de arquivo\n",
    "def appendFile(filename):\n",
    "\n",
    "    #Abrir o arquivo em modo de alteração (append)\n",
    "    # \"a\" - append - inclui conteúdo ao final do arquivo\n",
    "    # criará um arquivo se o arquivo especificado não existir\n",
    "    fileobject=open(filename, \"a\", encoding='utf-8')\n",
    "\n",
    "    fileobject.write(\"\\n\") #adiciona uma quebra de linha\n",
    "\n",
    "    fileobject.write(\"\\nOlá pessoal!\") #adiciona uma linha informando que é o fina do arquivo    \n",
    "    now = datetime.now() # current date and time\n",
    "    date_time = now.strftime(\"%d/%m/%Y, %H:%M:%S\") #busca a data e hora atual\n",
    "    fileobject.write(\"\\n--> Hoje é: \"+str(date_time)) #adiciona uma linha informando que dia é hoje\n",
    "\n",
    "    fileobject.write(\"\\n\\n\")  #adiciona duas quebras de linha\n",
    "    fileobject.write(\"Olá pessoal!\") #adiciona uma linha informando que é o fina do arquivo    \n",
    "    fileobject.write(\"--> Hoje é: \"+str(date_time)) #adiciona dia é hoje\n",
    "\n",
    "    fileobject.close()    #fecha o arquivo        \n",
    "#----------------------------------------------------------------\n",
    "# Método para escrita de arquivo\n",
    "def writeFile(filename):\n",
    "    #Abrir o arquivo em modo de escrita (write)\n",
    "    # \"w\" - Write - substituirá qualquer conteúdo existente\n",
    "    #    criará um arquivo se o arquivo especificado não existir\n",
    "\n",
    "    fileobject=open(filename, \"w\", encoding='utf-8')\n",
    "    fileobject.write (\"Abri o arquivo \"+filename+\" em modo de escrita (w)!\")\n",
    "    \n",
    "    now = datetime.now() # current date and time\n",
    "    date_time = now.strftime(\"%d/%m/%Y, %H:%M:%S\") #busca a data e hora atual\n",
    "    fileobject.write(\"\\n--> Hoje é: \"+str(date_time)) #adiciona uma linha informando que dia é hoje\n",
    "    \n",
    "    fileobject.close()    #fecha o arquivo    \n",
    "    \n",
    "#----------------------------------------------------------------\n",
    "# Método para criação de arquivo    \n",
    "def createFile(filename):\n",
    "\n",
    "    #Cria um novo arquivo usando o método open ()\n",
    "    #\"x\" - criará um arquivo, retornará um erro se o arquivo existir\n",
    "    #filename = setDatasetPath() + \"\\escritorCreate1.txt\"\n",
    "    try:\n",
    "        fileobject=open(filename, \"x\", encoding='utf-8')\n",
    "        fileobject.write(\"Este é um novo arquivo criado usando o modo de criação (x).\")\n",
    "        fileobject.close()    #fecha o arquivo\n",
    "    except FileExistsError:\n",
    "        print('\\nERRO AO TENTAR CRIAR O ARQUIVO !! \\nO arquivo '+filename+' já existe!')\n",
    "        "
   ]
  },
  {
   "cell_type": "markdown",
   "metadata": {},
   "source": [
    "#### 3º) Executa os métodos criados (Main)"
   ]
  },
  {
   "cell_type": "code",
   "execution_count": 5,
   "metadata": {},
   "outputs": [],
   "source": [
    "# Verifica o diretório de trabalho e Define o diretório dos arquivos\n",
    "\n",
    "datasetPath = setDatasetPath()"
   ]
  },
  {
   "cell_type": "markdown",
   "metadata": {},
   "source": [
    "<b><i>Leitura de arquivo TXT</i></b>"
   ]
  },
  {
   "cell_type": "code",
   "execution_count": 6,
   "metadata": {},
   "outputs": [
    {
     "name": "stdout",
     "output_type": "stream",
     "text": [
      "\u001b[96mSerá lido o seguinte arquivo: \u001b[0mC:\\Bootcamp\\Datasets\\TXT\\arquivoTextoRead.txt\n"
     ]
    }
   ],
   "source": [
    "# Define arquivo para leitura\n",
    "filename = datasetPath + \"\\\\arquivoTextoRead.txt\"\n",
    "\n",
    "# Imprimir texto com alinhamento ao centro\n",
    "print(color.CYAN+'Será lido o seguinte arquivo: '+color.END+filename)"
   ]
  },
  {
   "cell_type": "code",
   "execution_count": 7,
   "metadata": {},
   "outputs": [
    {
     "name": "stdout",
     "output_type": "stream",
     "text": [
      "\u001b[1m\u001b[94m\n",
      "O conteúdo do arquivo C:\\Bootcamp\\Datasets\\TXT\\arquivoTextoRead.txt é:\n",
      "\u001b[0m\n",
      "﻿Exemplo de coleta de dados em arquivos de texto.\n",
      "\n",
      "Escritor: Machado de Assis\n",
      "Nome completo:\tJoaquim Maria Machado de Assis\n",
      "Nacionalidade: Brasileira\n",
      "Natural de: Rio de Janeiro\n",
      "Nascimento:\t21 de junho de 1839\n",
      "Morte: 29 de setembro de 1908 (69 anos)\n",
      "Cônjuge: Carolina Augusta Xavier de Novais (1869–1904)\n",
      "Ocupação: Escritor, jornalista, contista, cronista, dramaturgo e poeta\n",
      "Movimento literário: Romantismo, Realismo\n",
      "Fonte: https://pt.wikipedia.org/wiki/Machado_de_Assis\n"
     ]
    }
   ],
   "source": [
    "#Invoca o método readFileContent(filename)\n",
    "readFileContent(filename)"
   ]
  },
  {
   "cell_type": "code",
   "execution_count": 8,
   "metadata": {},
   "outputs": [
    {
     "name": "stdout",
     "output_type": "stream",
     "text": [
      "\u001b[1m\u001b[94m\n",
      "As linhas do arquivo C:\\Bootcamp\\Datasets\\TXT\\arquivoTextoRead.txt são:\n",
      "\u001b[0m\n",
      "Linha 1: ﻿Exemplo de coleta de dados em arquivos de texto.\n",
      "Linha 2: \n",
      "Linha 3: Escritor: Machado de Assis\n",
      "Linha 4: Nome completo:\tJoaquim Maria Machado de Assis\n",
      "Linha 5: Nacionalidade: Brasileira\n",
      "Linha 6: Natural de: Rio de Janeiro\n",
      "Linha 7: Nascimento:\t21 de junho de 1839\n",
      "Linha 8: Morte: 29 de setembro de 1908 (69 anos)\n",
      "Linha 9: Cônjuge: Carolina Augusta Xavier de Novais (1869–1904)\n",
      "Linha 10: Ocupação: Escritor, jornalista, contista, cronista, dramaturgo e poeta\n",
      "Linha 11: Movimento literário: Romantismo, Realismo\n",
      "Linha 12: Fonte: https://pt.wikipedia.org/wiki/Machado_de_Assis"
     ]
    }
   ],
   "source": [
    "#Invoca o método realFileLines(filename)\n",
    "realFileLines(filename)"
   ]
  },
  {
   "cell_type": "markdown",
   "metadata": {},
   "source": [
    "<b><i>Alteração (append) de arquivo TXT</i></b>"
   ]
  },
  {
   "cell_type": "code",
   "execution_count": 9,
   "metadata": {},
   "outputs": [
    {
     "name": "stdout",
     "output_type": "stream",
     "text": [
      "\u001b[1m\u001b[92mAppend em um arquivo que já existe!\n",
      "\u001b[0m\n",
      "\u001b[1m\u001b[94m\n",
      "O conteúdo do arquivo C:\\Bootcamp\\Datasets\\TXT\\arquivoTextoAppend1.txt é:\n",
      "\u001b[0m\n",
      "Coleta de dados em arquivos de texto.\n",
      "Olá pessoal, este arquivo é para o exemplo de append files (Alteração).\n",
      "\n",
      "Olá pessoal!\n",
      "--> Hoje é: 10/06/2020, 02:44:24\n",
      "\n",
      "Olá pessoal!--> Hoje é: 10/06/2020, 02:44:24\n",
      "\u001b[1m\u001b[94m\n",
      "O conteúdo do arquivo C:\\Bootcamp\\Datasets\\TXT\\arquivoTextoAppend1.txt é:\n",
      "\u001b[0m\n",
      "Coleta de dados em arquivos de texto.\n",
      "Olá pessoal, este arquivo é para o exemplo de append files (Alteração).\n",
      "\n",
      "Olá pessoal!\n",
      "--> Hoje é: 10/06/2020, 02:44:24\n",
      "\n",
      "Olá pessoal!--> Hoje é: 10/06/2020, 02:44:24\n",
      "\n",
      "Olá pessoal!\n",
      "--> Hoje é: 10/06/2020, 02:58:46\n",
      "\n",
      "Olá pessoal!--> Hoje é: 10/06/2020, 02:58:46\n"
     ]
    }
   ],
   "source": [
    "    print(color.BOLD+color.GREEN+'Append em um arquivo que já existe!\\n'+color.END)\n",
    "    #Abrir o arquivo em modo de alteração (append)\n",
    "    filename = datasetPath + \"\\\\arquivoTextoAppend1.txt\"    \n",
    "    #Vamos PRIMEIRO ler o arquivo para conferir o conteúdo\n",
    "    readFileContent(filename)\n",
    "    #Invoca método appendFile(filename)\n",
    "    appendFile(filename)\n",
    "    #Vamos AGORA ler o arquivo para conferir o conteúdo após append\n",
    "    readFileContent(filename)"
   ]
  },
  {
   "cell_type": "code",
   "execution_count": 10,
   "metadata": {},
   "outputs": [
    {
     "name": "stdout",
     "output_type": "stream",
     "text": [
      "\u001b[1m\u001b[92mAppend em um arquivo que não existe!\n",
      "\u001b[0m\n",
      "\u001b[1m\u001b[91m\n",
      "ERRO AO TENTAR LER O ARQUIVO !! \n",
      "O arquivo C:\\Bootcamp\\Datasets\\TXT\\arquivoTextoAppend2.txt não existe!\u001b[0m\n",
      "\u001b[1m\u001b[94m\n",
      "O conteúdo do arquivo C:\\Bootcamp\\Datasets\\TXT\\arquivoTextoAppend2.txt é:\n",
      "\u001b[0m\n",
      "\n",
      "\n",
      "Olá pessoal!\n",
      "--> Hoje é: 10/06/2020, 03:00:03\n",
      "\n",
      "Olá pessoal!--> Hoje é: 10/06/2020, 03:00:03\n"
     ]
    }
   ],
   "source": [
    "    print(color.BOLD+color.GREEN+'Append em um arquivo que não existe!\\n'+color.END)\n",
    "    filename = datasetPath + \"\\\\arquivoTextoAppend2.txt\"\n",
    "    #Vamos PRIMEIRO ler o arquivo para conferir o conteúdo\n",
    "    readFileContent(filename)\n",
    "    #Invoca método appendFile(filename)\n",
    "    appendFile(filename)\n",
    "    #Vamos AGORA ler o arquivo para conferir o conteúdo após append\n",
    "    readFileContent(filename)"
   ]
  },
  {
   "cell_type": "markdown",
   "metadata": {},
   "source": [
    "#### Escrita (write) de arquivo TXT"
   ]
  },
  {
   "cell_type": "code",
   "execution_count": 11,
   "metadata": {},
   "outputs": [
    {
     "name": "stdout",
     "output_type": "stream",
     "text": [
      "\u001b[1m\u001b[95mEscrever (sobrescrever) um arquivo que já existe!\n",
      "\u001b[0m\n",
      "\u001b[1m\u001b[94m\n",
      "O conteúdo do arquivo C:\\Bootcamp\\Datasets\\TXT\\arquivoTextoWrite1.txt é:\n",
      "\u001b[0m\n",
      "Coleta de dados em arquivos de texto.\n",
      "Olá pessoal, este arquivo é para o exemplo de escrita.\n",
      "\u001b[1m\u001b[94m\n",
      "O conteúdo do arquivo C:\\Bootcamp\\Datasets\\TXT\\arquivoTextoWrite1.txt é:\n",
      "\u001b[0m\n",
      "Abri o arquivo C:\\Bootcamp\\Datasets\\TXT\\arquivoTextoWrite1.txt em modo de escrita (w)!\n",
      "--> Hoje é: 10/06/2020, 03:01:46\n"
     ]
    }
   ],
   "source": [
    "    print(color.BOLD+color.PURPLE+'Escrever (sobrescrever) um arquivo que já existe!\\n'+color.END)\n",
    "    #Abrir o arquivo em modo de escrita (write)\n",
    "    filename = datasetPath + \"\\\\arquivoTextoWrite1.txt\"\n",
    "    #Vamos PRIMEIRO ler o arquivo para conferir o conteúdo\n",
    "    readFileContent(filename)\n",
    "    #Invoca método writeFile(filename)\n",
    "    writeFile(filename)\n",
    "    #Vamos AGORA ler o arquivo para conferir o conteúdo após escrita\n",
    "    readFileContent(filename)"
   ]
  },
  {
   "cell_type": "code",
   "execution_count": 12,
   "metadata": {},
   "outputs": [
    {
     "name": "stdout",
     "output_type": "stream",
     "text": [
      "\u001b[1m\u001b[95mEscrever um arquivo que não existe!\n",
      "\u001b[0m\n",
      "\u001b[1m\u001b[91m\n",
      "ERRO AO TENTAR LER O ARQUIVO !! \n",
      "O arquivo C:\\Bootcamp\\Datasets\\TXT\\arquivoTextoWrite2.txt não existe!\u001b[0m\n",
      "\u001b[1m\u001b[94m\n",
      "O conteúdo do arquivo C:\\Bootcamp\\Datasets\\TXT\\arquivoTextoWrite2.txt é:\n",
      "\u001b[0m\n",
      "Abri o arquivo C:\\Bootcamp\\Datasets\\TXT\\arquivoTextoWrite2.txt em modo de escrita (w)!\n",
      "--> Hoje é: 10/06/2020, 03:02:40\n"
     ]
    }
   ],
   "source": [
    "    print(color.BOLD+color.PURPLE+'Escrever um arquivo que não existe!\\n'+color.END)\n",
    "    filename = datasetPath + \"\\\\arquivoTextoWrite2.txt\"\n",
    "    #Vamos PRIMEIRO ler o arquivo para conferir o conteúdo\n",
    "    readFileContent(filename)\n",
    "    #Invoca método writeFile(filename)\n",
    "    writeFile(filename)    \n",
    "    #Vamos AGORA ler o arquivo para conferir o conteúdo após escrita\n",
    "    readFileContent(filename)"
   ]
  },
  {
   "cell_type": "markdown",
   "metadata": {},
   "source": [
    "#### Escrita (create) de arquivo TXT "
   ]
  },
  {
   "cell_type": "code",
   "execution_count": 13,
   "metadata": {},
   "outputs": [
    {
     "name": "stdout",
     "output_type": "stream",
     "text": [
      "\u001b[1m\u001b[33mCriar um arquivo que já existe!\n",
      "\u001b[0m\n",
      "\u001b[1m\u001b[94m\n",
      "O conteúdo do arquivo C:\\Bootcamp\\Datasets\\TXT\\arquivoTextoCreate1.txt é:\n",
      "\u001b[0m\n",
      "﻿Coleta de dados em arquivos de texto.\n",
      "Olá pessoal, este arquivo é para o exemplo de create files (Criação).\n",
      "\n",
      "ERRO AO TENTAR CRIAR O ARQUIVO !! \n",
      "O arquivo C:\\Bootcamp\\Datasets\\TXT\\arquivoTextoCreate1.txt já existe!\n",
      "\u001b[1m\u001b[33m\n",
      "Criar um arquivo que não existe!\n",
      "\u001b[0m\n",
      "\u001b[1m\u001b[91m\n",
      "ERRO AO TENTAR LER O ARQUIVO !! \n",
      "O arquivo C:\\Bootcamp\\Datasets\\TXT\\arquivoTextoCreate2.txt não existe!\u001b[0m\n",
      "\u001b[1m\u001b[94m\n",
      "O conteúdo do arquivo C:\\Bootcamp\\Datasets\\TXT\\arquivoTextoCreate2.txt é:\n",
      "\u001b[0m\n",
      "Este é um novo arquivo criado usando o modo de criação (x).\n"
     ]
    }
   ],
   "source": [
    "    print(color.BOLD+color.ORANGE+'Criar um arquivo que já existe!\\n'+color.END)\n",
    "    #Cria um novo arquivo usando o método open ()\n",
    "    filename = datasetPath + \"\\\\arquivoTextoCreate1.txt\"\n",
    "    #Vamos PRIMEIRO ler o arquivo para conferir o conteúdo ou ver se ele existe\n",
    "    readFileContent(filename)\n",
    "    #Invoca o método createFile(filename)\n",
    "    createFile(filename)\n",
    "\n",
    "    print(color.BOLD+color.ORANGE+'\\nCriar um arquivo que não existe!\\n'+color.END)       \n",
    "    filename = datasetPath + \"\\\\arquivoTextoCreate2.txt\"\n",
    "    #Vamos ler o arquivo para conferir o conteúdo ou ver se ele existe\n",
    "    readFileContent(filename)\n",
    "    createFile(filename)\n",
    "    #Vamos AGORA ler o arquivo para conferir o conteúdo após escrita\n",
    "    readFileContent(filename)"
   ]
  },
  {
   "cell_type": "markdown",
   "metadata": {},
   "source": [
    "#### Listar arquivos de diretório"
   ]
  },
  {
   "cell_type": "code",
   "execution_count": 14,
   "metadata": {},
   "outputs": [
    {
     "name": "stdout",
     "output_type": "stream",
     "text": [
      "O diretório de trabalho é: C:\\Bootcamp\\JupyterNotebooks\\PyCode\n",
      "\u001b[1m\n",
      "A lista de arquivos e/ou diretórios é:\u001b[0m\n",
      "['arquivoTextoAppend1.txt', 'arquivoTextoAppend2.txt', 'arquivoTextoCreate1.txt', 'arquivoTextoCreate2.txt', 'arquivoTextoRead.txt', 'arquivoTextoWrite1.txt', 'arquivoTextoWrite2.txt', 'backup', 'source', 'target', 'Teste']\n"
     ]
    }
   ],
   "source": [
    "#Lê o diretório de trabalho\n",
    "working_directory = os.getcwd() #\n",
    "\n",
    "print('O diretório de trabalho é: ' + working_directory)\n",
    "\n",
    "#Lê os arquivos de um diretório específico\n",
    "filelist = os.listdir(datasetPath)\n",
    "print(color.BOLD+'\\nA lista de arquivos e/ou diretórios é:'+color.END)\n",
    "print(filelist)"
   ]
  },
  {
   "cell_type": "markdown",
   "metadata": {},
   "source": [
    "#### Lê o conteúdo de cada arquivo do diretório "
   ]
  },
  {
   "cell_type": "code",
   "execution_count": 15,
   "metadata": {},
   "outputs": [
    {
     "name": "stdout",
     "output_type": "stream",
     "text": [
      "\u001b[1m\n",
      "Lendo conteúdo do arquivo: \u001b[0mC:\\Bootcamp\\Datasets\\TXT\\arquivoTextoAppend1.txt\n",
      "Coleta de dados em arquivos de texto.\n",
      "Olá pessoal, este arquivo é para o exemplo de append files (Alteração).\n",
      "\n",
      "Olá pessoal!\n",
      "--> Hoje é: 10/06/2020, 02:44:24\n",
      "\n",
      "Olá pessoal!--> Hoje é: 10/06/2020, 02:44:24\n",
      "\n",
      "Olá pessoal!\n",
      "--> Hoje é: 10/06/2020, 02:58:46\n",
      "\n",
      "Olá pessoal!--> Hoje é: 10/06/2020, 02:58:46\n",
      "\u001b[1m\n",
      "Lendo conteúdo do arquivo: \u001b[0mC:\\Bootcamp\\Datasets\\TXT\\arquivoTextoAppend2.txt\n",
      "\n",
      "\n",
      "Olá pessoal!\n",
      "--> Hoje é: 10/06/2020, 03:00:03\n",
      "\n",
      "Olá pessoal!--> Hoje é: 10/06/2020, 03:00:03\n",
      "\u001b[1m\n",
      "Lendo conteúdo do arquivo: \u001b[0mC:\\Bootcamp\\Datasets\\TXT\\arquivoTextoCreate1.txt\n",
      "﻿Coleta de dados em arquivos de texto.\n",
      "Olá pessoal, este arquivo é para o exemplo de create files (Criação).\n",
      "\u001b[1m\n",
      "Lendo conteúdo do arquivo: \u001b[0mC:\\Bootcamp\\Datasets\\TXT\\arquivoTextoCreate2.txt\n",
      "Este é um novo arquivo criado usando o modo de criação (x).\n",
      "\u001b[1m\n",
      "Lendo conteúdo do arquivo: \u001b[0mC:\\Bootcamp\\Datasets\\TXT\\arquivoTextoRead.txt\n",
      "﻿Exemplo de coleta de dados em arquivos de texto.\n",
      "\n",
      "Escritor: Machado de Assis\n",
      "Nome completo:\tJoaquim Maria Machado de Assis\n",
      "Nacionalidade: Brasileira\n",
      "Natural de: Rio de Janeiro\n",
      "Nascimento:\t21 de junho de 1839\n",
      "Morte: 29 de setembro de 1908 (69 anos)\n",
      "Cônjuge: Carolina Augusta Xavier de Novais (1869–1904)\n",
      "Ocupação: Escritor, jornalista, contista, cronista, dramaturgo e poeta\n",
      "Movimento literário: Romantismo, Realismo\n",
      "Fonte: https://pt.wikipedia.org/wiki/Machado_de_Assis\n",
      "\u001b[1m\n",
      "Lendo conteúdo do arquivo: \u001b[0mC:\\Bootcamp\\Datasets\\TXT\\arquivoTextoWrite1.txt\n",
      "Abri o arquivo C:\\Bootcamp\\Datasets\\TXT\\arquivoTextoWrite1.txt em modo de escrita (w)!\n",
      "--> Hoje é: 10/06/2020, 03:01:46\n",
      "\u001b[1m\n",
      "Lendo conteúdo do arquivo: \u001b[0mC:\\Bootcamp\\Datasets\\TXT\\arquivoTextoWrite2.txt\n",
      "Abri o arquivo C:\\Bootcamp\\Datasets\\TXT\\arquivoTextoWrite2.txt em modo de escrita (w)!\n",
      "--> Hoje é: 10/06/2020, 03:02:40\n",
      "\u001b[1m\u001b[94m\n",
      "backup não é um arquivo!\u001b[0m\n",
      "\u001b[1m\u001b[94m\n",
      "source não é um arquivo!\u001b[0m\n",
      "\u001b[1m\u001b[94m\n",
      "target não é um arquivo!\u001b[0m\n",
      "\u001b[1m\u001b[94m\n",
      "Teste não é um arquivo!\u001b[0m\n"
     ]
    }
   ],
   "source": [
    "#for filename in filelist:\n",
    "for filename in os.listdir(datasetPath):\n",
    "    if os.path.isfile(os.path.join(datasetPath, filename)):\n",
    "        fullfilename = datasetPath+'\\\\'+filename\n",
    "        try:\n",
    "            print(color.BOLD+'\\nLendo conteúdo do arquivo: '+color.END+ fullfilename)\n",
    "            fileobject=open(fullfilename, \"r\",encoding='utf-8')\n",
    "            if fileobject.mode == 'r':\n",
    "                filecontents =fileobject.read()\n",
    "                print (filecontents) #imprime o conteúdo lido\n",
    "            fileobject.close()\n",
    "        except FileNotFoundError:\n",
    "            print(color.BOLD+color.RED+'\\nERRO: ARQUIVO NÃO EXISTE!! \\n'+color.END)\n",
    "    else: \n",
    "        print(color.BOLD+color.BLUE+'\\n'+filename+' não é um arquivo!'+color.END)"
   ]
  },
  {
   "cell_type": "markdown",
   "metadata": {},
   "source": [
    "#### Remove todos arquivo de um diretório"
   ]
  },
  {
   "cell_type": "code",
   "execution_count": 16,
   "metadata": {},
   "outputs": [
    {
     "name": "stdout",
     "output_type": "stream",
     "text": [
      "Lista de arquivos: \n",
      "['arquivoTextoAppend1.txt', 'arquivoTextoCreate1.txt', 'arquivoTextoRead.txt', 'arquivoTextoRenomeado.txt', 'arquivoTextoWrite1.txt']\n",
      "\n",
      "Lista de arquivos após exclusão: \n",
      "[]\n"
     ]
    }
   ],
   "source": [
    "folder = 'C:\\\\Bootcamp\\\\Datasets\\\\TXT\\\\target'\n",
    "\n",
    "filelist = os.listdir(folder)\n",
    "print('Lista de arquivos: ',sep=\"\")\n",
    "print(filelist)\n",
    "\n",
    "for filename in os.listdir(folder):\n",
    "    try:\n",
    "        if os.path.isfile(os.path.join(folder, filename)):\n",
    "            filepath = os.path.join(folder, filename)\n",
    "            os.unlink(filepath)\n",
    "        #elif os.path.isdir(filepath):\n",
    "            #shutil.rmtree(filepath)\n",
    "    except Exception as e:\n",
    "        print('Falha ao excluir %s. \\nRazão da falha: %s' % (filepath, e))\n",
    "\n",
    "filelist = os.listdir(folder)\n",
    "print('\\nLista de arquivos após exclusão: ',sep=\"\")\n",
    "print(filelist)        "
   ]
  },
  {
   "cell_type": "markdown",
   "metadata": {},
   "source": [
    "#### Movendo arquivo de um diretório para outro "
   ]
  },
  {
   "cell_type": "code",
   "execution_count": 18,
   "metadata": {},
   "outputs": [
    {
     "name": "stdout",
     "output_type": "stream",
     "text": [
      "Arquivos na origem: \n",
      "[]\n",
      "\n",
      "Arquivos no destino: \n",
      "['arquivoTexto.txt', 'arquivoTextoAppend1.txt', 'arquivoTextoCreate1.txt', 'arquivoTextoRead.txt', 'arquivoTextoWrite1.txt']\n",
      "\n",
      "Arquivos na origem após mover: \n",
      "[]\n",
      "\n",
      "Arquivos no destino após mover: \n",
      "['arquivoTexto.txt', 'arquivoTextoAppend1.txt', 'arquivoTextoCreate1.txt', 'arquivoTextoRead.txt', 'arquivoTextoWrite1.txt']\n"
     ]
    }
   ],
   "source": [
    "import shutil\n",
    "#import os\n",
    "\n",
    "folderSource = 'C:\\\\Bootcamp\\\\Datasets\\\\TXT\\\\source'\n",
    "folderTarget = 'C:\\\\Bootcamp\\\\Datasets\\\\TXT\\\\target'\n",
    "\n",
    "sourceList = os.listdir(folderSource)\n",
    "targetList = os.listdir(folderTarget)\n",
    "\n",
    "print('Arquivos na origem: ',sep=\"\")\n",
    "print(sourceList)\n",
    "print('\\nArquivos no destino: ',sep=\"\")\n",
    "print(targetList)\n",
    "\n",
    "# Move a pasta source para dentro da pasta target\n",
    "#shutil.move(folderSource, folderTarget)\n",
    "\n",
    "for filename in sourceList:\n",
    "    try:\n",
    "        #print(filename)\n",
    "        if os.path.isfile(os.path.join(folderSource, filename)):\n",
    "            filepath = os.path.join(folderSource, filename)\n",
    "            shutil.move(filepath, folderTarget) #Move o arquivo para pasta target\n",
    "    except Exception as e:\n",
    "        print('Falha ao excluir %s. \\nRazão da falha: %s' % (filepath, e))\n",
    "\n",
    "sourceList = os.listdir(folderSource)\n",
    "targetList = os.listdir(folderTarget)\n",
    "\n",
    "print('\\nArquivos na origem após mover: ',sep=\"\")\n",
    "print(sourceList)\n",
    "print('\\nArquivos no destino após mover: ',sep=\"\")\n",
    "print(targetList)"
   ]
  },
  {
   "cell_type": "markdown",
   "metadata": {},
   "source": [
    "#### Copiando arquivo de um diretório para outro "
   ]
  },
  {
   "cell_type": "code",
   "execution_count": 19,
   "metadata": {},
   "outputs": [
    {
     "name": "stdout",
     "output_type": "stream",
     "text": [
      "\n",
      "Arquivos na origem após copia: \n",
      "['arquivoTexto.txt', 'arquivoTextoAppend1.txt', 'arquivoTextoCreate1.txt', 'arquivoTextoRead.txt', 'arquivoTextoWrite1.txt']\n",
      "\n",
      "Arquivos no destino após copia: \n",
      "['arquivoTexto.txt', 'arquivoTextoAppend1.txt', 'arquivoTextoCreate1.txt', 'arquivoTextoRead.txt', 'arquivoTextoWrite1.txt']\n"
     ]
    }
   ],
   "source": [
    "sourceList = os.listdir(folderSource)\n",
    "targetList = os.listdir(folderTarget)\n",
    "\n",
    "for filename in targetList:\n",
    "    try:\n",
    "        #print(filename)\n",
    "        if os.path.isfile(os.path.join(folderTarget, filename)):\n",
    "            filepath = os.path.join(folderTarget, filename)\n",
    "            filepath2 = os.path.join(folderSource, filename)\n",
    "            #print(filepath)\n",
    "            shutil.copy(filepath, filepath2) #Copia o arquivo para pasta source\n",
    "    except Exception as e:\n",
    "        print('Falha ao excluir %s. \\nRazão da falha: %s' % (filepath, e))\n",
    "\n",
    "sourceList = os.listdir(folderSource)\n",
    "targetList = os.listdir(folderTarget)\n",
    "\n",
    "print('\\nArquivos na origem após copia: ',sep=\"\")\n",
    "print(sourceList)\n",
    "print('\\nArquivos no destino após copia: ',sep=\"\")\n",
    "print(targetList)"
   ]
  },
  {
   "cell_type": "markdown",
   "metadata": {},
   "source": [
    "#### Renomeando arquivo"
   ]
  },
  {
   "cell_type": "code",
   "execution_count": 20,
   "metadata": {},
   "outputs": [
    {
     "name": "stdout",
     "output_type": "stream",
     "text": [
      "\n",
      "Lista de Arquivos: \n",
      "['arquivoTexto.txt', 'arquivoTextoAppend1.txt', 'arquivoTextoCreate1.txt', 'arquivoTextoRead.txt', 'arquivoTextoWrite1.txt']\n",
      "\n",
      "Lista de Arquivos após renomear: \n",
      "['arquivoTextoAppend1.txt', 'arquivoTextoCreate1.txt', 'arquivoTextoRead.txt', 'arquivoTextoRenomeado.txt', 'arquivoTextoWrite1.txt']\n"
     ]
    }
   ],
   "source": [
    "#folderTarget = 'C:\\\\Bootcamp\\\\Datasets\\\\TXT\\\\target'\n",
    "\n",
    "filenameSource = 'arquivoTexto.txt'\n",
    "filenameTarget = 'arquivoTextoRenomeado.txt'\n",
    "\n",
    "\n",
    "old_file = os.path.join(folderTarget, filenameSource)\n",
    "new_file = os.path.join(folderTarget, filenameTarget)\n",
    "\n",
    "\n",
    "filelist = os.listdir(folderTarget)\n",
    "print('\\nLista de Arquivos: ',sep=\"\")\n",
    "print(filelist)\n",
    "\n",
    "os.rename(old_file, new_file)\n",
    "#os.link(filenameTarget)\n",
    "\n",
    "filelist = os.listdir(folderTarget)\n",
    "print('\\nLista de Arquivos após renomear: ',sep=\"\")\n",
    "print(filelist)\n"
   ]
  },
  {
   "cell_type": "code",
   "execution_count": null,
   "metadata": {},
   "outputs": [],
   "source": []
  }
 ],
 "metadata": {
  "kernelspec": {
   "display_name": "Python 3",
   "language": "python",
   "name": "python3"
  },
  "language_info": {
   "codemirror_mode": {
    "name": "ipython",
    "version": 3
   },
   "file_extension": ".py",
   "mimetype": "text/x-python",
   "name": "python",
   "nbconvert_exporter": "python",
   "pygments_lexer": "ipython3",
   "version": "3.7.1"
  }
 },
 "nbformat": 4,
 "nbformat_minor": 4
}
