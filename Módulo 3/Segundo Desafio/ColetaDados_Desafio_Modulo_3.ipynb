{
  "nbformat": 4,
  "nbformat_minor": 0,
  "metadata": {
    "kernelspec": {
      "display_name": "Python 3",
      "language": "python",
      "name": "python3"
    },
    "language_info": {
      "codemirror_mode": {
        "name": "ipython",
        "version": 3
      },
      "file_extension": ".py",
      "mimetype": "text/x-python",
      "name": "python",
      "nbconvert_exporter": "python",
      "pygments_lexer": "ipython3",
      "version": "3.7.1"
    },
    "colab": {
      "name": "ColetaDados - Desafio Modulo 3.ipynb",
      "provenance": [],
      "collapsed_sections": []
    }
  },
  "cells": [
    {
      "cell_type": "code",
      "metadata": {
        "id": "wTGsn2H-LL41",
        "colab_type": "code",
        "colab": {}
      },
      "source": [
        "import tweepy as tw"
      ],
      "execution_count": null,
      "outputs": []
    },
    {
      "cell_type": "code",
      "metadata": {
        "id": "dXNCjJ01LL4-",
        "colab_type": "code",
        "colab": {}
      },
      "source": [
        "# Importação das chaves de acesso Twitter\n",
        "\n",
        "consumer_key = '';\n",
        "consumer_secret = '';\n",
        "acess_token = '';\n",
        "acess_token_secret = '';"
      ],
      "execution_count": null,
      "outputs": []
    },
    {
      "cell_type": "code",
      "metadata": {
        "id": "8MLcJgQsLL5C",
        "colab_type": "code",
        "colab": {}
      },
      "source": [
        "# Fazer a autenticação na API com as credenciais cadastrada\n",
        "\n",
        "auth = tw.OAuthHandler(consumer_key, consumer_secret);\n",
        "auth.set_access_token(acess_token, acess_token_secret);\n",
        "token = tw.API(auth);"
      ],
      "execution_count": null,
      "outputs": []
    },
    {
      "cell_type": "code",
      "metadata": {
        "id": "yOCG19JmLL5G",
        "colab_type": "code",
        "colab": {}
      },
      "source": [
        "# Definir quais são as palavras chave para fazer a busca\n",
        "\n",
        "keyword = 'home office OR trabalho remoto OR trabalho em casa OR homeoffice OR trabalhoremoto OR trabalhoemcasa'"
      ],
      "execution_count": null,
      "outputs": []
    },
    {
      "cell_type": "code",
      "metadata": {
        "id": "bqcsxorxLL5K",
        "colab_type": "code",
        "colab": {}
      },
      "source": [
        "# Fazer a busca com uma palavra chave no Twitter usando a API\n",
        "# result_type -> POde ser mixed (default), recent, popular\n",
        "# parâmetro lang='pt', faz a busca apenas de tweets em português ou em alguma linguagem desejada\n",
        "# tweet_mode='extended' busca o tweeter por inteiro\n",
        "## OBS: So usei o parâmetro lang='en' por causa de um erro que aconteceu em seguida.\n",
        "\n",
        "tweets = token.search(q=keyword, count=28000, result_type='mixed');"
      ],
      "execution_count": null,
      "outputs": []
    },
    {
      "cell_type": "code",
      "metadata": {
        "id": "C6S2WY2CLL5Q",
        "colab_type": "code",
        "colab": {}
      },
      "source": [
        "# Teste pra ver o que retornou na variável tweets\n",
        "print(tweets);"
      ],
      "execution_count": null,
      "outputs": []
    },
    {
      "cell_type": "code",
      "metadata": {
        "id": "rvlIedd9LL5W",
        "colab_type": "code",
        "colab": {},
        "outputId": "f7530cfc-170c-4622-9a1c-7e773cfc3d0e"
      },
      "source": [
        "# Função len(): Verifica a quantidade de tweets adquiridos\n",
        "\n",
        "print('A quantidade de Tweets coletados foi de -> ', len(tweets));"
      ],
      "execution_count": null,
      "outputs": [
        {
          "output_type": "stream",
          "text": [
            "A quantidade de Tweets coletados foi de ->  10\n"
          ],
          "name": "stdout"
        }
      ]
    },
    {
      "cell_type": "code",
      "metadata": {
        "id": "6FwffGJxLL5b",
        "colab_type": "code",
        "colab": {},
        "outputId": "b1b208dc-1e0f-4c96-8aff-855191519338"
      },
      "source": [
        "# Imprimir o nome de usuário e o tweet postado por ele utilizando a função screen_name.\n",
        "# OBS: Se você utilizar o tweet_mode='extended' para trazer o tweet completo,\n",
        "# o correto é utilizar a função full_text quando for imprimir o tweet do usuário.\n",
        "# No caso, ficaria: print('Tweet do usuário -> ', tweet.full_text);\n",
        "\n",
        "for tweet in tweets:\n",
        "    print('Usuário que postou o Tweet -> ', tweet.user.screen_name);\n",
        "    print('Tweet do usuário -> ', tweet.text);\n",
        "    print('______________________________________________________________________________\\n');"
      ],
      "execution_count": null,
      "outputs": [
        {
          "output_type": "stream",
          "text": [
            "Usuário que postou o Tweet ->  realDonaldTrump\n",
            "Tweet do usuário ->  Because of MAIL-IN BALLOTS, 2020 will be the most RIGGED Election in our nations history - unless this stupidity is… https://t.co/Ps0AaQkk9s\n",
            "______________________________________________________________________________\n",
            "\n",
            "Usuário que postou o Tweet ->  JoeBiden\n",
            "Tweet do usuário ->  It's worth repeating that this weekend, President Trump admitted he directed his administration to slow down corona… https://t.co/kLqjsXBGaA\n",
            "______________________________________________________________________________\n",
            "\n",
            "Usuário que postou o Tweet ->  funder\n",
            "Tweet do usuário ->  BREAKING: Trump just confirmed he slowed coronavirus testing because it looked bad for him. Americans got sick and… https://t.co/gLmWK45iaA\n",
            "______________________________________________________________________________\n",
            "\n",
            "Usuário que postou o Tweet ->  thejamaicanjew\n",
            "Tweet do usuário ->  RT @Aadzzzzz: I could literally put the cure for coronavirus on my private story and no one would reply\n",
            "______________________________________________________________________________\n",
            "\n",
            "Usuário que postou o Tweet ->  andy_oncy\n",
            "Tweet do usuário ->  RT @HusseinGoda22: @nabilelhalfawy If any one can help in our problem, plz do not hesitate. Egypt's Minster of Education wants to make usua…\n",
            "______________________________________________________________________________\n",
            "\n",
            "Usuário que postou o Tweet ->  jenni_daena\n",
            "Tweet do usuário ->  RT @l_moralss: FOR MY PEOPLE WITH COVID :\n",
            "* retweet to save lives* https://t.co/ypr3SZjs6G\n",
            "______________________________________________________________________________\n",
            "\n",
            "Usuário que postou o Tweet ->  CreatedtoLove27\n",
            "Tweet do usuário ->  RT @aubrey_huff: Here comes the #coronavirus 2nd wave media fear porn. Don’t take the bait.\n",
            "______________________________________________________________________________\n",
            "\n",
            "Usuário que postou o Tweet ->  ResistMonsters\n",
            "Tweet do usuário ->  RT @komonews: BREAKING: Gov. Inslee announces statewide mandatory face mask rule. https://t.co/A35MMykdc7\n",
            "______________________________________________________________________________\n",
            "\n",
            "Usuário que postou o Tweet ->  NewzBoxOffice\n",
            "Tweet do usuário ->  Cipla Hits Record High On Government Approval For Making Gilead's Covid-19 Drug - Follow/RT/Fav - #WednesdayWisdom… https://t.co/906vLxZY4F\n",
            "______________________________________________________________________________\n",
            "\n",
            "Usuário que postou o Tweet ->  CarolynMcC\n",
            "Tweet do usuário ->  This needs to be investigated. And if this is true, it is criminal. What do you say about this @RonDeSantisFL… https://t.co/rqAma30eY6\n",
            "______________________________________________________________________________\n",
            "\n"
          ],
          "name": "stdout"
        }
      ]
    },
    {
      "cell_type": "code",
      "metadata": {
        "id": "RJ2kban8LL5h",
        "colab_type": "code",
        "colab": {}
      },
      "source": [
        "# Análise de polaridade\n",
        "# Importar o pacote do textblob\n",
        "# OBS: NO meu caso, quando fui intalar o textblob, deu erro. Para conseguir intalar, executei os seguintes comandos:\n",
        "# conda clean --all\n",
        "# conda install -c conda-forge textblob\n",
        "# conda install -c conda-forge numpy\n",
        "# conda install -c conda-forge tweepy\n",
        "\n",
        "from textblob import TextBlob as tb\n",
        "import numpy as np"
      ],
      "execution_count": null,
      "outputs": []
    },
    {
      "cell_type": "code",
      "metadata": {
        "id": "eh5H7adkLL5k",
        "colab_type": "code",
        "colab": {}
      },
      "source": [
        "#Variável pra armazenar as polaridades\n",
        "analysis = None;\n",
        "\n",
        "#Variavel para armazenas os scores\n",
        "tweets_score = [];"
      ],
      "execution_count": null,
      "outputs": []
    },
    {
      "cell_type": "code",
      "metadata": {
        "id": "KN8a_8-MLL5n",
        "colab_type": "code",
        "colab": {},
        "outputId": "54c5ccc1-ba5a-41c7-c3c6-e08e5af25167"
      },
      "source": [
        "# Percorrer todos os tweets recuperados para receber o textblob de cada tweets.\n",
        "# Calcular a polaridade de cada tweet.\n",
        "# A função sentiment.polarity calcula o nível de polaridade de tweets em Inglês, por padrão.\n",
        "for tweet in tweets:\n",
        "    print('**', tweet.text);\n",
        "    analysis = tb(tweet.text);\n",
        "    polarity = analysis.sentiment.polarity;\n",
        "    tweets_score.append(polarity);"
      ],
      "execution_count": null,
      "outputs": [
        {
          "output_type": "stream",
          "text": [
            "** Because of MAIL-IN BALLOTS, 2020 will be the most RIGGED Election in our nations history - unless this stupidity is… https://t.co/Ps0AaQkk9s\n",
            "** It's worth repeating that this weekend, President Trump admitted he directed his administration to slow down corona… https://t.co/kLqjsXBGaA\n",
            "** BREAKING: Trump just confirmed he slowed coronavirus testing because it looked bad for him. Americans got sick and… https://t.co/gLmWK45iaA\n",
            "** RT @Aadzzzzz: I could literally put the cure for coronavirus on my private story and no one would reply\n",
            "** RT @HusseinGoda22: @nabilelhalfawy If any one can help in our problem, plz do not hesitate. Egypt's Minster of Education wants to make usua…\n",
            "** RT @l_moralss: FOR MY PEOPLE WITH COVID :\n",
            "* retweet to save lives* https://t.co/ypr3SZjs6G\n",
            "** RT @aubrey_huff: Here comes the #coronavirus 2nd wave media fear porn. Don’t take the bait.\n",
            "** RT @komonews: BREAKING: Gov. Inslee announces statewide mandatory face mask rule. https://t.co/A35MMykdc7\n",
            "** Cipla Hits Record High On Government Approval For Making Gilead's Covid-19 Drug - Follow/RT/Fav - #WednesdayWisdom… https://t.co/906vLxZY4F\n",
            "** This needs to be investigated. And if this is true, it is criminal. What do you say about this @RonDeSantisFL… https://t.co/rqAma30eY6\n"
          ],
          "name": "stdout"
        }
      ]
    },
    {
      "cell_type": "code",
      "metadata": {
        "id": "bxSjfBisLL5r",
        "colab_type": "code",
        "colab": {},
        "outputId": "2382ff0b-4013-407c-f922-99dc627733ac"
      },
      "source": [
        "# Verificar o vetor com as polaridades\n",
        "\n",
        "print('Vetor de polaridade -> ', tweets_score);"
      ],
      "execution_count": null,
      "outputs": [
        {
          "output_type": "stream",
          "text": [
            "Vetor de polaridade ->  [-0.04999999999999999, -0.05185185185185188, -0.33809523809523806, 0.0, 0.2, 0.0, 0.0, 0.0, 0.16, -0.025000000000000022]\n"
          ],
          "name": "stdout"
        }
      ]
    },
    {
      "cell_type": "code",
      "metadata": {
        "id": "Dv29-H-ILL5v",
        "colab_type": "code",
        "colab": {},
        "outputId": "052a25e7-9794-4360-9ccb-7352f1b9aca8"
      },
      "source": [
        "# Calcular a média de sentimento\n",
        "\n",
        "print('Média de sentimento -> ', str(np.mean(tweets_score)));"
      ],
      "execution_count": null,
      "outputs": [
        {
          "output_type": "stream",
          "text": [
            "Média de sentimento ->  -0.010494708994708992\n"
          ],
          "name": "stdout"
        }
      ]
    },
    {
      "cell_type": "code",
      "metadata": {
        "id": "sC9mSZNfLL52",
        "colab_type": "code",
        "colab": {}
      },
      "source": [
        "# Análise de polaridades para tweets que não estão em inglês.\n",
        "# Aqui estava dando erro na API de tradução.\n",
        "# Existe uma issue no github do TextBlob que explica melhor a situação.\n",
        "# Bascicamente, a API pode ter retornado uma string inalterada.\n",
        "# Issue: https://github.com/sloria/TextBlob/issues/171\n",
        "# Modifiquei para capturar apenas tweets em Inglês, para dar continuidade na questão.\n",
        "# PAra isso, basta colocar o lang='en' na função token.search\n",
        "\n",
        "## OBS: O erro aconteceu somente no exercicio do covid. No enunciado do Desafio deu tudo certo.\n",
        "\n",
        "polarities = [];\n",
        "\n",
        "for tweet in tweets:\n",
        "    analysis = tb(tweet.text);\n",
        "    if analysis.detect_language() != 'en':\n",
        "        traducao = tb(str(analysis.translate(to='en')));\n",
        "        print('Texto traduzido -> ', traducao);\n",
        "        polarity = traducao.sentiment.polarity;\n",
        "    else:\n",
        "        polarity = analysis.sentiment.polarity;\n",
        "    \n",
        "    polarities.append(polarity);"
      ],
      "execution_count": null,
      "outputs": []
    },
    {
      "cell_type": "code",
      "metadata": {
        "id": "inkvSbZRLL59",
        "colab_type": "code",
        "colab": {},
        "outputId": "8d0cd92b-7c01-4b46-ff6b-c7b01812775e"
      },
      "source": [
        "# Verificar o vetor com as polaridades\n",
        "\n",
        "print('Vetor de polaridade -> ', polarities);"
      ],
      "execution_count": null,
      "outputs": [
        {
          "output_type": "stream",
          "text": [
            "Vetor de polaridade ->  [-0.04999999999999999, -0.05185185185185188, -0.33809523809523806, 0.0, 0.2, 0.0, 0.0, 0.0, 0.16, -0.025000000000000022]\n"
          ],
          "name": "stdout"
        }
      ]
    },
    {
      "cell_type": "code",
      "metadata": {
        "id": "Vi0rggyRLL6E",
        "colab_type": "code",
        "colab": {},
        "outputId": "b4621803-df43-4bec-bf2a-9ccdfef81900"
      },
      "source": [
        "# Calcular a média de sentimento\n",
        "\n",
        "print('Média de sentimento -> ', str(np.mean(polarities)));"
      ],
      "execution_count": null,
      "outputs": [
        {
          "output_type": "stream",
          "text": [
            "Média de sentimento ->  -0.010494708994708992\n"
          ],
          "name": "stdout"
        }
      ]
    },
    {
      "cell_type": "code",
      "metadata": {
        "id": "Zk6WIe2oLL6L",
        "colab_type": "code",
        "colab": {}
      },
      "source": [
        "# Armazenamento de arquivos\n",
        "\n",
        "import json"
      ],
      "execution_count": null,
      "outputs": []
    },
    {
      "cell_type": "code",
      "metadata": {
        "id": "hIny1MnBLL6R",
        "colab_type": "code",
        "colab": {}
      },
      "source": [
        "status = tweets[0];\n",
        "\n",
        "# Converte para string\n",
        "json_str = json.dumps(status._json);\n",
        "\n",
        "# Deserializa string para um objeto\n",
        "parsed = json.loads(json_str);"
      ],
      "execution_count": null,
      "outputs": []
    },
    {
      "cell_type": "code",
      "metadata": {
        "id": "SoYaG-TrLL6a",
        "colab_type": "code",
        "colab": {},
        "outputId": "a2c1cd4d-6fe8-4cbe-b605-5cb84e065a2f"
      },
      "source": [
        "print('-> ', type(tweets));\n",
        "print('-> ', type(json_str));\n",
        "print('-> ', type(parsed));"
      ],
      "execution_count": null,
      "outputs": [
        {
          "output_type": "stream",
          "text": [
            "->  <class 'tweepy.models.SearchResults'>\n",
            "->  <class 'str'>\n",
            "->  <class 'dict'>\n"
          ],
          "name": "stdout"
        }
      ]
    },
    {
      "cell_type": "code",
      "metadata": {
        "id": "fTCNnxtqLL6h",
        "colab_type": "code",
        "colab": {}
      },
      "source": [
        "datasetPath = 'D:\\Bootcamp-IGTI-Analista-de-Dados\\Módulo 3\\Segundo Desafio';\n",
        "with open(datasetPath+'\\\\tweets_keywords.json', 'a', encoding='utf8') as filename:\n",
        "    for tweet in tweets:\n",
        "        status = tweet;\n",
        "        # Converte para string\n",
        "        json_str = json.dumps(status._json);\n",
        "\n",
        "        # Deserializa string para um objeto\n",
        "        parsed = json.loads(json_str);\n",
        "        \n",
        "        # Grava o tweet deserializado no arquivo json\n",
        "        json.dump(parsed, filename, ensure_ascii=False, sort_keys=True, indent=4, separators=(',', ':'));"
      ],
      "execution_count": null,
      "outputs": []
    },
    {
      "cell_type": "code",
      "metadata": {
        "id": "3x24QWRFLL6k",
        "colab_type": "code",
        "colab": {}
      },
      "source": [
        "# Armazenamento dos dados no MongoDB\n",
        "# Não fiz essa parte ate o momento\n",
        "# import pymongo"
      ],
      "execution_count": null,
      "outputs": []
    }
  ]
}