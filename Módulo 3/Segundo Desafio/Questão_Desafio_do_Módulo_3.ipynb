{
  "nbformat": 4,
  "nbformat_minor": 0,
  "metadata": {
    "colab": {
      "name": "Questão Desafio do Módulo 3.ipynb",
      "provenance": []
    },
    "kernelspec": {
      "name": "python3",
      "display_name": "Python 3"
    }
  },
  "cells": [
    {
      "cell_type": "code",
      "metadata": {
        "id": "gkpfvgL2Eev5",
        "colab_type": "code",
        "colab": {}
      },
      "source": [
        "import numpy as np\n",
        "import random as rd"
      ],
      "execution_count": 2,
      "outputs": []
    },
    {
      "cell_type": "code",
      "metadata": {
        "id": "MFJn7VcuEvjs",
        "colab_type": "code",
        "colab": {
          "base_uri": "https://localhost:8080/",
          "height": 34
        },
        "outputId": "ee52fdd1-4623-4f70-9077-fd144b859ab2"
      },
      "source": [
        "valores = [];\n",
        "\n",
        "i = 0;\n",
        "while i < 10:\n",
        "  valores.append(rd.randrange(0, 10));\n",
        "  i=i+1;\n",
        "\n",
        "print(valores);"
      ],
      "execution_count": 4,
      "outputs": [
        {
          "output_type": "stream",
          "text": [
            "[8, 3, 2, 3, 5, 9, 7, 3, 7, 6]\n"
          ],
          "name": "stdout"
        }
      ]
    },
    {
      "cell_type": "code",
      "metadata": {
        "id": "DtvQLWPfFKiV",
        "colab_type": "code",
        "colab": {
          "base_uri": "https://localhost:8080/",
          "height": 34
        },
        "outputId": "a46cec8a-3188-4670-e5f0-6eb1847232fa"
      },
      "source": [
        "print(np.mean(valores));"
      ],
      "execution_count": 6,
      "outputs": [
        {
          "output_type": "stream",
          "text": [
            "5.3\n"
          ],
          "name": "stdout"
        }
      ]
    },
    {
      "cell_type": "code",
      "metadata": {
        "id": "akE9jQ28FcSb",
        "colab_type": "code",
        "colab": {
          "base_uri": "https://localhost:8080/",
          "height": 34
        },
        "outputId": "135df29f-a204-4846-f423-b9ae9ad37c4a"
      },
      "source": [
        "arr_questao = [8, 3, 4, 8, 3, 4, 3, 2, 0, 8];\n",
        "print(np.mean(arr_questao));"
      ],
      "execution_count": 7,
      "outputs": [
        {
          "output_type": "stream",
          "text": [
            "4.3\n"
          ],
          "name": "stdout"
        }
      ]
    }
  ]
}