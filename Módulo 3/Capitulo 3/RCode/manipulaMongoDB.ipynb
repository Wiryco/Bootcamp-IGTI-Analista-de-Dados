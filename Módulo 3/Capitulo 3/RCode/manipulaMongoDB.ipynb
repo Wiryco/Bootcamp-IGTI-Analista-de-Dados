{
 "cells": [
  {
   "cell_type": "markdown",
   "metadata": {},
   "source": [
    "# Manipulação de Dados no MongoDB com R"
   ]
  },
  {
   "cell_type": "markdown",
   "metadata": {},
   "source": [
    "Para detalhes sobre o pacote mongolite acesse:\n",
    "* https://cran.r-project.org/web/packages/mongolite/index.html"
   ]
  },
  {
   "cell_type": "code",
   "execution_count": null,
   "metadata": {},
   "outputs": [],
   "source": [
    "#importação de biblioteca\n",
    "require(mongolite)"
   ]
  },
  {
   "cell_type": "markdown",
   "metadata": {},
   "source": [
    "**OBSERVAÇÃO:** A mensagem de erro abaixo indica que você não tem o pacote RMongo instalado\n",
    "\n",
    "*Loading required package: mongolite* - \n",
    "*Warning message in library(package, lib.loc = lib.loc, character.only = TRUE, logical.return = TRUE, :\n",
    "\"there is no package called 'mongolite'\"*\n",
    "\n",
    "**Para instalar execute o comando abaixo:**\n",
    "\n",
    "* install.packages('mongolite')"
   ]
  },
  {
   "cell_type": "code",
   "execution_count": null,
   "metadata": {},
   "outputs": [],
   "source": [
    "#Conecta ao SGBD MongoDB\n",
    "\n",
    "connection <- mongo(collection = \"megasena\", db = \"igti\", url = \"mongodb://localhost\")"
   ]
  },
  {
   "cell_type": "code",
   "execution_count": null,
   "metadata": {},
   "outputs": [],
   "source": [
    "query <- connection$find('{\"Ganhadores_Sena\":\"1\"}')"
   ]
  },
  {
   "cell_type": "code",
   "execution_count": null,
   "metadata": {},
   "outputs": [],
   "source": [
    "exam_scores <- query[c(\"Rateio_Sena\")]"
   ]
  },
  {
   "cell_type": "code",
   "execution_count": null,
   "metadata": {},
   "outputs": [],
   "source": [
    "summary(exam_scores)"
   ]
  },
  {
   "cell_type": "markdown",
   "metadata": {},
   "source": [
    "### Ler a coleção Iris no arquivo CSV e inserir no MongoDB"
   ]
  },
  {
   "cell_type": "code",
   "execution_count": null,
   "metadata": {},
   "outputs": [],
   "source": [
    "iris <- read.csv(\"C:/Bootcamp/Datasets/CSV/Iris.csv\");"
   ]
  },
  {
   "cell_type": "code",
   "execution_count": null,
   "metadata": {},
   "outputs": [],
   "source": [
    "#Conecta ao SGBD MongoDB, a uma coleção específica\n",
    "\n",
    "connection <- mongo(collection = \"iris\", db = \"igti\", url = \"mongodb://localhost\")"
   ]
  },
  {
   "cell_type": "code",
   "execution_count": null,
   "metadata": {},
   "outputs": [],
   "source": [
    "connection$insert(iris)"
   ]
  },
  {
   "cell_type": "code",
   "execution_count": null,
   "metadata": {},
   "outputs": [],
   "source": [
    "connection$find(limit = 5)"
   ]
  },
  {
   "cell_type": "code",
   "execution_count": null,
   "metadata": {},
   "outputs": [],
   "source": [
    "pessoas <- mongo(collection =\"pessoas\", db = \"igti\", url = \"mongodb://localhost\")\n",
    "str <- c('{\"nome\" : \"maria\"}' , '{\"nome\": \"ana\", \"idade\" : 23}', '{\"nome\": \"joão\"}')\n",
    "pessoas$insert(str)"
   ]
  },
  {
   "cell_type": "code",
   "execution_count": null,
   "metadata": {},
   "outputs": [],
   "source": [
    "pessoas$find()"
   ]
  },
  {
   "cell_type": "code",
   "execution_count": null,
   "metadata": {},
   "outputs": [],
   "source": [
    "pessoas$count()"
   ]
  },
  {
   "cell_type": "code",
   "execution_count": null,
   "metadata": {},
   "outputs": [],
   "source": [
    "pessoas$remove('{\"idade\" : 23}')\n",
    "pessoas$count()"
   ]
  },
  {
   "cell_type": "code",
   "execution_count": null,
   "metadata": {},
   "outputs": [],
   "source": [
    "pessoas$find()"
   ]
  },
  {
   "cell_type": "code",
   "execution_count": null,
   "metadata": {},
   "outputs": [],
   "source": [
    "str <- c('{\"nome\" : \"bill\"}' , '{\"nome\": \"anna\", \"idade\" : 23}', '{\"nome\": \"jose\",\"idade\" : 35}')\n",
    "pessoas$insert(str)"
   ]
  },
  {
   "cell_type": "code",
   "execution_count": null,
   "metadata": {},
   "outputs": [],
   "source": [
    "pessoas$find()"
   ]
  },
  {
   "cell_type": "code",
   "execution_count": null,
   "metadata": {},
   "outputs": [],
   "source": [
    "pessoas$update('{\"nome\":\"bill\"}', '{\"$set\":{\"idade\": 21}}')"
   ]
  },
  {
   "cell_type": "code",
   "execution_count": null,
   "metadata": {},
   "outputs": [],
   "source": [
    "pessoas$find()"
   ]
  },
  {
   "cell_type": "code",
   "execution_count": null,
   "metadata": {},
   "outputs": [],
   "source": []
  }
 ],
 "metadata": {
  "kernelspec": {
   "display_name": "R",
   "language": "R",
   "name": "ir"
  },
  "language_info": {
   "codemirror_mode": "r",
   "file_extension": ".r",
   "mimetype": "text/x-r-source",
   "name": "R",
   "pygments_lexer": "r",
   "version": "3.6.1"
  }
 },
 "nbformat": 4,
 "nbformat_minor": 4
}
