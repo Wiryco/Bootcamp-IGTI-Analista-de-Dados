{
 "cells": [
  {
   "cell_type": "markdown",
   "metadata": {},
   "source": [
    "# Coleta de Dados no MongoDB com R"
   ]
  },
  {
   "cell_type": "markdown",
   "metadata": {},
   "source": [
    "## Instalação e importação do pacote *mongolite*"
   ]
  },
  {
   "cell_type": "code",
   "execution_count": null,
   "metadata": {},
   "outputs": [],
   "source": [
    "#instalar pacote\n",
    "install.packages('mongolite')"
   ]
  },
  {
   "cell_type": "code",
   "execution_count": null,
   "metadata": {},
   "outputs": [],
   "source": [
    "#importação de biblioteca\n",
    "require(mongolite)"
   ]
  },
  {
   "cell_type": "markdown",
   "metadata": {},
   "source": [
    "**OBSERVAÇÃO:** A mensagem abaixo, não indica nenhum erro, toda mensagem iniciada por **Warning message** refere-se apenas a uma mensagem de alerta, ou seja, é informativa.\n",
    "\n",
    "*Loading required package: mongolite - \n",
    "Warning message: - \n",
    "\"package 'mongolite' was built under R version 3.6.3\"*"
   ]
  },
  {
   "cell_type": "code",
   "execution_count": null,
   "metadata": {},
   "outputs": [],
   "source": [
    "#Conexão ao banco de dados\n",
    "iris <- mongo(collection = \"iris\", db = \"igti\", url = \"mongodb://localhost\")"
   ]
  },
  {
   "cell_type": "code",
   "execution_count": null,
   "metadata": {},
   "outputs": [],
   "source": [
    "#Contar o número de documentos existentesa na coleção iris\n",
    "iris$count()"
   ]
  },
  {
   "cell_type": "code",
   "execution_count": null,
   "metadata": {},
   "outputs": [],
   "source": [
    "#Cria um data.frame com todos os dados da coleção\n",
    "iris.df <- iris$find()"
   ]
  },
  {
   "cell_type": "code",
   "execution_count": null,
   "metadata": {},
   "outputs": [],
   "source": [
    "print(paste('Número de colunas: ',ncol(iris.df)))\n",
    "print(paste('Número de linhas: ',nrow(iris.df)))\n",
    "print(paste('Tamanho: ',length(iris.df)))"
   ]
  },
  {
   "cell_type": "code",
   "execution_count": null,
   "metadata": {},
   "outputs": [],
   "source": [
    "# Imprimir as 6 primeiras linhas do vetor(data.frame) iris \n",
    "head(iris.df);"
   ]
  },
  {
   "cell_type": "code",
   "execution_count": null,
   "metadata": {},
   "outputs": [],
   "source": [
    "#Imprimir os nomes de linhas do data.frame iris\n",
    "#print(paste('Nome de linhas:',rownames(iris.df)))\n",
    "print(rownames(iris.df))"
   ]
  },
  {
   "cell_type": "code",
   "execution_count": null,
   "metadata": {},
   "outputs": [],
   "source": [
    "#Imprimir os nomes de colunas do data.frame iris\n",
    "#print(paste('Nome de linhas:',rownames(iris.df)))\n",
    "print(colnames(iris.df))"
   ]
  },
  {
   "cell_type": "code",
   "execution_count": null,
   "metadata": {},
   "outputs": [],
   "source": [
    "#Grava arquivo CSV\n",
    "\n",
    "write.csv(iris.df,'C:/Bootcamp/Datasets/CSV/irisFromMongo.csv',row.names=FALSE)"
   ]
  },
  {
   "cell_type": "code",
   "execution_count": null,
   "metadata": {},
   "outputs": [],
   "source": [
    "iris.df2 <- iris.df #criar novo data.frame identico ao iris.df\n",
    "head(iris.df2)"
   ]
  },
  {
   "cell_type": "code",
   "execution_count": null,
   "metadata": {},
   "outputs": [],
   "source": [
    "print(\"Colunas do dataframe 2:\")\n",
    "print('')\n",
    "print(colnames(iris.df2))"
   ]
  },
  {
   "cell_type": "code",
   "execution_count": null,
   "metadata": {},
   "outputs": [],
   "source": [
    "iris.df2$Id <- NULL\n",
    "iris.df2$Especie <- NULL\n",
    "print(\"Colunas do dataframe 2 após setar colunas ID e Especie para NULL:\")\n",
    "print('')\n",
    "print(colnames(iris.df2))"
   ]
  },
  {
   "cell_type": "code",
   "execution_count": null,
   "metadata": {},
   "outputs": [],
   "source": [
    "#Renomear colunas do dataframe\n",
    "colnames(iris.df2)[1] <- \"Comprimento_Sepala\"\n",
    "colnames(iris.df2)[2] <- \"Largura_Sepala\"\n",
    "colnames(iris.df2)[3] <- \"Comprimento_Petala\"\n",
    "colnames(iris.df2)[4] <- \"Largura_Petala\"\n",
    "print(colnames(iris.df2))"
   ]
  },
  {
   "cell_type": "code",
   "execution_count": null,
   "metadata": {},
   "outputs": [],
   "source": [
    "#Resumo das estatísticas descritivas:\n",
    "summary(iris.df2)"
   ]
  },
  {
   "cell_type": "code",
   "execution_count": null,
   "metadata": {},
   "outputs": [],
   "source": [
    "# Boxplot mostrando a mediana (linha horizontal, quartis 25 % e 75 % (caixa verde - col=3) e observações máxima e\n",
    "#mínima (linhas verticais) – ylab e xlab são as etiquetas dos eixos y e x, respectivamente.\n",
    "# paramentro col=3 indica cor dar barras para verde\n",
    "boxplot(iris.df2, col=3, ylab=\"Valores(cm)\", xlab=\"Característica\")"
   ]
  },
  {
   "cell_type": "code",
   "execution_count": null,
   "metadata": {},
   "outputs": [],
   "source": [
    "#Usa range=0 para não mostrar os outliers (observações extremas representadas como pontos)\n",
    "# paramentro col=2 indica cor dar barras para vermelho\n",
    "boxplot(iris.df2, range=0, col=2, ylab=\"Valores(cm)\", xlab=\"Característica\")"
   ]
  },
  {
   "cell_type": "code",
   "execution_count": null,
   "metadata": {},
   "outputs": [],
   "source": [
    "#Mostrar todas as observações cruas da amostra A na forma de gráfico barplot. Anote y$A significa a\n",
    "#coluna A de observações no arranjo de dados y\n",
    "# paramentro col=4 indica cor dar barras para azul\n",
    "barplot(iris.df2$Comprimento_Sepala,ylab=\"Valores em cm\", xlab=\"Valores crus\",\n",
    "        names=as.character(iris.df2$Comprimento_Sepala),cex.names=0.7, ylim=c(0,10),col=4);"
   ]
  },
  {
   "cell_type": "code",
   "execution_count": null,
   "metadata": {},
   "outputs": [],
   "source": [
    "#Para mostrar um histograma de freqüências das observações em amostra A (mais informativo sobre a\n",
    "#distribuição das observações do que gráfico anterior!) - Figura 4\n",
    "hist(iris.df2$Comprimento_Sepala, col=2, main=\"Histograma de amostra A\", xlab=\"Classe de\n",
    "massa (g)\", ylab=\"Freqüência\");"
   ]
  },
  {
   "cell_type": "code",
   "execution_count": null,
   "metadata": {},
   "outputs": [],
   "source": [
    "#Contar o número de documentos existentesa na coleção iris\n",
    "iris$count()"
   ]
  },
  {
   "cell_type": "markdown",
   "metadata": {},
   "source": [
    "## Importar e Exporta dados do MongoDB De/Para arquivos "
   ]
  },
  {
   "cell_type": "markdown",
   "metadata": {},
   "source": [
    "#### Exportar dados de uma coleção para um arquivo JSON"
   ]
  },
  {
   "cell_type": "code",
   "execution_count": null,
   "metadata": {},
   "outputs": [],
   "source": [
    "# usar a função export para exibir os documentos da coleção iris\n",
    "iris$export(stdout())"
   ]
  },
  {
   "cell_type": "code",
   "execution_count": null,
   "metadata": {},
   "outputs": [],
   "source": [
    "#exportar os documentos da coleção para um arquivo json\n",
    "# se não informar o caminho, o arquivo será gerado no diretório de trabalho\n",
    "iris$export(file(\"dumpIris.json\"))"
   ]
  },
  {
   "cell_type": "code",
   "execution_count": null,
   "metadata": {},
   "outputs": [],
   "source": [
    "#gerar o arquivo de dump em um local específico\n",
    "iris$export(file(\"C:/Bootcamp/Datasets/JSON/dumpIris.json\"))"
   ]
  },
  {
   "cell_type": "markdown",
   "metadata": {},
   "source": [
    "#### Importar dados de um arquivo JSON para uma coleção"
   ]
  },
  {
   "cell_type": "code",
   "execution_count": null,
   "metadata": {},
   "outputs": [],
   "source": [
    "#Criar uma nova conexão ao banco de dados\n",
    "irisDump <- mongo(collection = \"irisDump\", db = \"igti\", url = \"mongodb://localhost\")"
   ]
  },
  {
   "cell_type": "code",
   "execution_count": null,
   "metadata": {},
   "outputs": [],
   "source": [
    "#importa os documentos do arquivo para a nova coleção\n",
    "irisDump$import(file(\"C:/Bootcamp/Datasets/JSON/dumpIris.json\"))"
   ]
  },
  {
   "cell_type": "code",
   "execution_count": null,
   "metadata": {},
   "outputs": [],
   "source": [
    "irisDump$count()"
   ]
  },
  {
   "cell_type": "code",
   "execution_count": null,
   "metadata": {},
   "outputs": [],
   "source": [
    "irisDump$find(limit=5)"
   ]
  },
  {
   "cell_type": "code",
   "execution_count": null,
   "metadata": {},
   "outputs": [],
   "source": [
    "rm(irisDump) #Remove a conexão com a coleção irisDump"
   ]
  },
  {
   "cell_type": "markdown",
   "metadata": {},
   "source": [
    "### Desconectar"
   ]
  },
  {
   "cell_type": "code",
   "execution_count": null,
   "metadata": {},
   "outputs": [],
   "source": [
    "#Desconecta do MongoDB\n",
    "iris$disconnect()"
   ]
  },
  {
   "cell_type": "code",
   "execution_count": null,
   "metadata": {},
   "outputs": [],
   "source": [
    "#Contar o número de documentos existentesa na coleção iris\n",
    "iris$count()"
   ]
  },
  {
   "cell_type": "markdown",
   "metadata": {},
   "source": [
    "**OBSERVAÇÃO:**\n",
    "A mensagem abaixo indica que a sessão esta desconectada, e que está sendo realizada um tentativa de nova conexão.\n",
    "\n",
    "*Connection lost. Trying to reconnect with mongo...*\n",
    "\n",
    "Observe ainda, que logo após a mensagem é exibido novamente o valor 150, que é o resultado do comando \"iris$count()\". Isto indica que a conexão foi reestabelecida."
   ]
  },
  {
   "cell_type": "code",
   "execution_count": null,
   "metadata": {},
   "outputs": [],
   "source": [
    "#Contar o número de documentos existentesa na coleção iris\n",
    "iris$count()"
   ]
  },
  {
   "cell_type": "code",
   "execution_count": null,
   "metadata": {},
   "outputs": [],
   "source": [
    "# Quando a conexão for removida vai desconectar automaticamente\n",
    "\n",
    "rm(iris) #Remove a conexão com a coleção iris\n"
   ]
  },
  {
   "cell_type": "code",
   "execution_count": null,
   "metadata": {},
   "outputs": [],
   "source": [
    "#Contar o número de documentos existentesa na coleção iris\n",
    "iris$count()"
   ]
  },
  {
   "cell_type": "code",
   "execution_count": null,
   "metadata": {},
   "outputs": [],
   "source": []
  }
 ],
 "metadata": {
  "kernelspec": {
   "display_name": "R",
   "language": "R",
   "name": "ir"
  },
  "language_info": {
   "codemirror_mode": "r",
   "file_extension": ".r",
   "mimetype": "text/x-r-source",
   "name": "R",
   "pygments_lexer": "r",
   "version": "3.6.1"
  }
 },
 "nbformat": 4,
 "nbformat_minor": 4
}
