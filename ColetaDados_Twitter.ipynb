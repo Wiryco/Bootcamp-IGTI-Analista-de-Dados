{
  "nbformat": 4,
  "nbformat_minor": 0,
  "metadata": {
    "kernelspec": {
      "display_name": "Python 3",
      "language": "python",
      "name": "python3"
    },
    "language_info": {
      "codemirror_mode": {
        "name": "ipython",
        "version": 3
      },
      "file_extension": ".py",
      "mimetype": "text/x-python",
      "name": "python",
      "nbconvert_exporter": "python",
      "pygments_lexer": "ipython3",
      "version": "3.7.1"
    },
    "colab": {
      "name": "ColetaDados Twitter.ipynb",
      "provenance": [],
      "collapsed_sections": []
    }
  },
  "cells": [
    {
      "cell_type": "code",
      "metadata": {
        "id": "PQhMSVeVAwl3",
        "colab_type": "code",
        "colab": {}
      },
      "source": [
        "import tweepy as tw"
      ],
      "execution_count": null,
      "outputs": []
    },
    {
      "cell_type": "code",
      "metadata": {
        "id": "b9ndIlQwAwl9",
        "colab_type": "code",
        "colab": {}
      },
      "source": [
        "# Importação das chaves de acesso Twitter\n",
        "\n",
        "consumer_key = '';\n",
        "consumer_secret = '';\n",
        "acess_token = '';\n",
        "acess_token_secret = '';"
      ],
      "execution_count": null,
      "outputs": []
    },
    {
      "cell_type": "code",
      "metadata": {
        "id": "0RcIJIZiAwmB",
        "colab_type": "code",
        "colab": {}
      },
      "source": [
        "# Fazer a autenticação na API com as credenciais cadastrada\n",
        "\n",
        "auth = tw.OAuthHandler(consumer_key, consumer_secret);\n",
        "auth.set_access_token(acess_token, acess_token_secret);\n",
        "token = tw.API(auth);"
      ],
      "execution_count": null,
      "outputs": []
    },
    {
      "cell_type": "code",
      "metadata": {
        "id": "-LoVaSlVAwmK",
        "colab_type": "code",
        "colab": {}
      },
      "source": [
        "# Definir quais são as palavras chave para fazer a busca\n",
        "\n",
        "keyword = 'covid OR covid-19 OR corona OR coronavirus OR covid19';"
      ],
      "execution_count": null,
      "outputs": []
    },
    {
      "cell_type": "code",
      "metadata": {
        "id": "TK0-QBPPAwmP",
        "colab_type": "code",
        "colab": {}
      },
      "source": [
        "# Fazer a busca com uma palavra chave no Twitter usando a API\n",
        "# result_type -> POde ser mixed (default), recent, popular\n",
        "# parâmetro lang='pt', faz a busca apenas de tweets em português ou em alguma linguagem desejada\n",
        "# tweet_mode='extended' busca o tweeter por inteiro\n",
        "## OBS: So usei o parâmetro lang='en' por causa de um erro que aconteceu em seguida.\n",
        "\n",
        "tweets = token.search(q=keyword, count=10, result_type='mixed', lang='en');"
      ],
      "execution_count": null,
      "outputs": []
    },
    {
      "cell_type": "code",
      "metadata": {
        "id": "yWZdA-hYAwmV",
        "colab_type": "code",
        "colab": {}
      },
      "source": [
        "# Teste pra ver o que retornou na variável tweets\n",
        "print(tweets);"
      ],
      "execution_count": null,
      "outputs": []
    },
    {
      "cell_type": "code",
      "metadata": {
        "id": "Ktq-m33pAwmd",
        "colab_type": "code",
        "colab": {},
        "outputId": "ac292e08-7086-41d6-87c6-87c219ddfffe"
      },
      "source": [
        "# Função len(): Verifica a quantidade de tweets adquiridos\n",
        "\n",
        "print('A quantidade de Tweets coletados foi de -> ', len(tweets));"
      ],
      "execution_count": null,
      "outputs": [
        {
          "output_type": "stream",
          "text": [
            "A quantidade de Tweets coletados foi de ->  10\n"
          ],
          "name": "stdout"
        }
      ]
    },
    {
      "cell_type": "code",
      "metadata": {
        "id": "zR9BQnKeAwmh",
        "colab_type": "code",
        "colab": {},
        "outputId": "86ae61fb-6007-4714-f813-dcbaacb4e057"
      },
      "source": [
        "# Imprimir o nome de usuário e o tweet postado por ele utilizando a função screen_name.\n",
        "# OBS: Se você utilizar o tweet_mode='extended' para trazer o tweet completo,\n",
        "# o correto é utilizar a função full_text quando for imprimir o tweet do usuário.\n",
        "# No caso, ficaria: print('Tweet do usuário -> ', tweet.full_text);\n",
        "\n",
        "for tweet in tweets:\n",
        "    print('Usuário que postou o Tweet -> ', tweet.user.screen_name);\n",
        "    print('Tweet do usuário -> ', tweet.text);\n",
        "    print('______________________________________________________________________________\\n');"
      ],
      "execution_count": null,
      "outputs": [
        {
          "output_type": "stream",
          "text": [
            "Usuário que postou o Tweet ->  realDonaldTrump\n",
            "Tweet do usuário ->  Because of MAIL-IN BALLOTS, 2020 will be the most RIGGED Election in our nations history - unless this stupidity is… https://t.co/Ps0AaQkk9s\n",
            "______________________________________________________________________________\n",
            "\n",
            "Usuário que postou o Tweet ->  JoeBiden\n",
            "Tweet do usuário ->  It's worth repeating that this weekend, President Trump admitted he directed his administration to slow down corona… https://t.co/kLqjsXBGaA\n",
            "______________________________________________________________________________\n",
            "\n",
            "Usuário que postou o Tweet ->  funder\n",
            "Tweet do usuário ->  BREAKING: Trump just confirmed he slowed coronavirus testing because it looked bad for him. Americans got sick and… https://t.co/gLmWK45iaA\n",
            "______________________________________________________________________________\n",
            "\n",
            "Usuário que postou o Tweet ->  FisherGTED\n",
            "Tweet do usuário ->  RT @GavinNewsom: #COVID19 can spread up to 26 feet if you sneeze.\n",
            "\n",
            "6 feet if you cough.\n",
            "\n",
            "4.5 feet if you exhale.\n",
            "\n",
            "Please. WEAR YOUR MASK.…\n",
            "______________________________________________________________________________\n",
            "\n",
            "Usuário que postou o Tweet ->  LookOutAGiraffe\n",
            "Tweet do usuário ->  RT @atrupar: Trump once against refers to coronavirus with the racist \"Kung Flu\" moniker, prompting huge cheers from his Turning Point Acti…\n",
            "______________________________________________________________________________\n",
            "\n",
            "Usuário que postou o Tweet ->  Kalabmore\n",
            "Tweet do usuário ->  RT @moneymakinDEE__: I can’t believe there’s people out here with COVID-19 telling they friends not to say nothing bc they still wanna go o…\n",
            "______________________________________________________________________________\n",
            "\n",
            "Usuário que postou o Tweet ->  hsramkcaj\n",
            "Tweet do usuário ->  RT @nytopinion: The president and his most loyal supporters keep acting as though if they ignore the seriousness of the coronavirus, it wil…\n",
            "______________________________________________________________________________\n",
            "\n",
            "Usuário que postou o Tweet ->  motibbs23\n",
            "Tweet do usuário ->  RT @cnnbrk: Washington Gov. Jay Inslee has announced that a new statewide mandate requiring residents to wear face masks will go into effec…\n",
            "______________________________________________________________________________\n",
            "\n",
            "Usuário que postou o Tweet ->  sethpoho\n",
            "Tweet do usuário ->  RT @pixelatedboat: *two weeks later* Mr. Met has died of coronavirus https://t.co/OUZfv8yGSs\n",
            "______________________________________________________________________________\n",
            "\n",
            "Usuário que postou o Tweet ->  PlunkettPrime\n",
            "Tweet do usuário ->  RT @PlunkettPrime: @LethalityJane big news for National Guardsmen called up for Covid duty under Title 32 orders — Senate’s calling for 180…\n",
            "______________________________________________________________________________\n",
            "\n"
          ],
          "name": "stdout"
        }
      ]
    },
    {
      "cell_type": "code",
      "metadata": {
        "id": "2j6owre-Awml",
        "colab_type": "code",
        "colab": {}
      },
      "source": [
        "# Análise de polaridade\n",
        "# Importar o pacote do textblob\n",
        "# OBS: NO meu caso, quando fui intalar o textblob, deu erro. Para conseguir intalar, executei os seguintes comandos:\n",
        "# conda clean --all\n",
        "# conda install -c conda-forge textblob\n",
        "# conda install -c conda-forge numpy\n",
        "# conda install -c conda-forge tweepy\n",
        "\n",
        "from textblob import TextBlob as tb\n",
        "import numpy as np"
      ],
      "execution_count": null,
      "outputs": []
    },
    {
      "cell_type": "code",
      "metadata": {
        "id": "tGxEVY0PAwmo",
        "colab_type": "code",
        "colab": {}
      },
      "source": [
        "#Variável pra armazenar as polaridades\n",
        "analysis = None;\n",
        "\n",
        "#Variavel para armazenas os scores\n",
        "tweets_score = [];"
      ],
      "execution_count": null,
      "outputs": []
    },
    {
      "cell_type": "code",
      "metadata": {
        "id": "t2ND1-dCAwmr",
        "colab_type": "code",
        "colab": {},
        "outputId": "1590cfeb-8b4a-426a-cf71-75f2b54be6aa"
      },
      "source": [
        "# Percorrer todos os tweets recuperados para receber o textblob de cada tweets.\n",
        "# Calcular a polaridade de cada tweet.\n",
        "# A função sentiment.polarity calcula o nível de polaridade de tweets em Inglês, por padrão.\n",
        "for tweet in tweets:\n",
        "    print('**', tweet.text);\n",
        "    analysis = tb(tweet.text);\n",
        "    polarity = analysis.sentiment.polarity;\n",
        "    tweets_score.append(polarity);"
      ],
      "execution_count": null,
      "outputs": [
        {
          "output_type": "stream",
          "text": [
            "** Because of MAIL-IN BALLOTS, 2020 will be the most RIGGED Election in our nations history - unless this stupidity is… https://t.co/Ps0AaQkk9s\n",
            "** It's worth repeating that this weekend, President Trump admitted he directed his administration to slow down corona… https://t.co/kLqjsXBGaA\n",
            "** BREAKING: Trump just confirmed he slowed coronavirus testing because it looked bad for him. Americans got sick and… https://t.co/gLmWK45iaA\n",
            "** RT @GavinNewsom: #COVID19 can spread up to 26 feet if you sneeze.\n",
            "\n",
            "6 feet if you cough.\n",
            "\n",
            "4.5 feet if you exhale.\n",
            "\n",
            "Please. WEAR YOUR MASK.…\n",
            "** RT @atrupar: Trump once against refers to coronavirus with the racist \"Kung Flu\" moniker, prompting huge cheers from his Turning Point Acti…\n",
            "** RT @moneymakinDEE__: I can’t believe there’s people out here with COVID-19 telling they friends not to say nothing bc they still wanna go o…\n",
            "** RT @nytopinion: The president and his most loyal supporters keep acting as though if they ignore the seriousness of the coronavirus, it wil…\n",
            "** RT @cnnbrk: Washington Gov. Jay Inslee has announced that a new statewide mandate requiring residents to wear face masks will go into effec…\n",
            "** RT @pixelatedboat: *two weeks later* Mr. Met has died of coronavirus https://t.co/OUZfv8yGSs\n",
            "** RT @PlunkettPrime: @LethalityJane big news for National Guardsmen called up for Covid duty under Title 32 orders — Senate’s calling for 180…\n"
          ],
          "name": "stdout"
        }
      ]
    },
    {
      "cell_type": "code",
      "metadata": {
        "id": "iOrzDbo5Awmv",
        "colab_type": "code",
        "colab": {},
        "outputId": "dd89dd36-2778-4a9d-df00-d1d15bda017f"
      },
      "source": [
        "# Verificar o vetor com as polaridades\n",
        "\n",
        "print('Vetor de polaridade -> ', tweets_score);"
      ],
      "execution_count": null,
      "outputs": [
        {
          "output_type": "stream",
          "text": [
            "Vetor de polaridade ->  [-0.04999999999999999, -0.05185185185185188, -0.33809523809523806, 0.0, 0.4000000000000001, 0.0, 0.27777777777777773, 0.13636363636363635, 0.0, 0.0]\n"
          ],
          "name": "stdout"
        }
      ]
    },
    {
      "cell_type": "code",
      "metadata": {
        "id": "xhbQkJQbAwmy",
        "colab_type": "code",
        "colab": {},
        "outputId": "42fbe695-63bf-4aa0-b826-7a9030ec504d"
      },
      "source": [
        "# Calcular a média de sentimento\n",
        "\n",
        "print('Média de sentimento -> ', str(np.mean(tweets_score)));"
      ],
      "execution_count": null,
      "outputs": [
        {
          "output_type": "stream",
          "text": [
            "Média de sentimento ->  0.03741943241943242\n"
          ],
          "name": "stdout"
        }
      ]
    },
    {
      "cell_type": "code",
      "metadata": {
        "id": "EB57eRswAwm2",
        "colab_type": "code",
        "colab": {}
      },
      "source": [
        "# Análise de polaridades para tweets que não estão em inglês.\n",
        "# Aqui estava dando erro na API de tradução.\n",
        "# Existe uma issue no github do TextBlob que explica melhor a situação.\n",
        "# Bascicamente, a API pode ter retornado uma string inalterada.\n",
        "# Issue: https://github.com/sloria/TextBlob/issues/171\n",
        "# Modifiquei para capturar apenas tweets em Inglês, para dar continuidade na questão.\n",
        "# PAra isso, basta colocar o lang='en' na função token.search\n",
        "polarities = [];\n",
        "\n",
        "for tweet in tweets:\n",
        "    analysis = tb(tweet.text);\n",
        "    if analysis.detect_language() != 'en':\n",
        "        traducao = tb(str(analysis.translate(to='en')));\n",
        "        print('Texto traduzido -> ', traducao);\n",
        "        polarity = traducao.sentiment.polarity;\n",
        "    else:\n",
        "        polarity = analysis.sentiment.polarity;\n",
        "    \n",
        "    polarities.append(polarity);"
      ],
      "execution_count": null,
      "outputs": []
    },
    {
      "cell_type": "code",
      "metadata": {
        "id": "JtRdZxK8Awm5",
        "colab_type": "code",
        "colab": {},
        "outputId": "d019d02f-38bd-42cc-f33a-61dd9b37bb09"
      },
      "source": [
        "# Verificar o vetor com as polaridades\n",
        "\n",
        "print('Vetor de polaridade -> ', polarities);"
      ],
      "execution_count": null,
      "outputs": [
        {
          "output_type": "stream",
          "text": [
            "Vetor de polaridade ->  [-0.04999999999999999, -0.05185185185185188, -0.33809523809523806, 0.0, 0.4000000000000001, 0.0, 0.27777777777777773, 0.13636363636363635, 0.0, 0.0]\n"
          ],
          "name": "stdout"
        }
      ]
    },
    {
      "cell_type": "code",
      "metadata": {
        "id": "bFkLTdXyAwm-",
        "colab_type": "code",
        "colab": {},
        "outputId": "48595f42-5852-4f84-9d3c-6e5479a02237"
      },
      "source": [
        "# Calcular a média de sentimento\n",
        "\n",
        "print('Média de sentimento -> ', str(np.mean(polarities)));"
      ],
      "execution_count": null,
      "outputs": [
        {
          "output_type": "stream",
          "text": [
            "Média de sentimento ->  0.03741943241943242\n"
          ],
          "name": "stdout"
        }
      ]
    },
    {
      "cell_type": "code",
      "metadata": {
        "id": "DLdyLYkIAwnB",
        "colab_type": "code",
        "colab": {}
      },
      "source": [
        "# Armazenamento de arquivos\n",
        "\n",
        "import json"
      ],
      "execution_count": null,
      "outputs": []
    },
    {
      "cell_type": "code",
      "metadata": {
        "id": "0BFaqzSuAwnH",
        "colab_type": "code",
        "colab": {}
      },
      "source": [
        "status = tweets[0];\n",
        "\n",
        "# Converte para string\n",
        "json_str = json.dumps(status._json);\n",
        "\n",
        "# Deserializa string para um objeto\n",
        "parsed = json.loads(json_str);"
      ],
      "execution_count": null,
      "outputs": []
    },
    {
      "cell_type": "code",
      "metadata": {
        "id": "OkhWy3f5AwnK",
        "colab_type": "code",
        "colab": {},
        "outputId": "699abe52-c94e-4633-ec38-d9f2af902fee"
      },
      "source": [
        "print('-> ', type(tweets));\n",
        "print('-> ', type(json_str));\n",
        "print('-> ', type(parsed));"
      ],
      "execution_count": null,
      "outputs": [
        {
          "output_type": "stream",
          "text": [
            "->  <class 'tweepy.models.SearchResults'>\n",
            "->  <class 'str'>\n",
            "->  <class 'dict'>\n"
          ],
          "name": "stdout"
        }
      ]
    },
    {
      "cell_type": "code",
      "metadata": {
        "id": "AGR29D-NAwnN",
        "colab_type": "code",
        "colab": {}
      },
      "source": [
        "datasetPath = 'D:\\Bootcamp-IGTI-Analista-de-Dados\\Módulo 3\\Segundo Desafio';\n",
        "with open(datasetPath+'\\\\tweets_keywords.json', 'a', encoding='utf8') as filename:\n",
        "    for tweet in tweets:\n",
        "        status = tweet;\n",
        "        # Converte para string\n",
        "        json_str = json.dumps(status._json);\n",
        "\n",
        "        # Deserializa string para um objeto\n",
        "        parsed = json.loads(json_str);\n",
        "        \n",
        "        # Grava o tweet deserializado no arquivo json\n",
        "        json.dump(parsed, filename, ensure_ascii=False, sort_keys=True, indent=4, separators=(',', ':'));"
      ],
      "execution_count": null,
      "outputs": []
    },
    {
      "cell_type": "code",
      "metadata": {
        "id": "OgVLNrLKAwnR",
        "colab_type": "code",
        "colab": {}
      },
      "source": [
        "# Armazenamento dos dados no MongoDB\n",
        "# Não fiz essa parte ate o momento\n",
        "# import pymongo"
      ],
      "execution_count": null,
      "outputs": []
    }
  ]
}